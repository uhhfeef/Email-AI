{
  "cells": [
    {
      "cell_type": "markdown",
      "metadata": {
        "id": "view-in-github",
        "colab_type": "text"
      },
      "source": [
        "<a href=\"https://colab.research.google.com/github/uhhfeef/Email-AI/blob/main/random_forest.ipynb\" target=\"_parent\"><img src=\"https://colab.research.google.com/assets/colab-badge.svg\" alt=\"Open In Colab\"/></a>"
      ]
    },
    {
      "cell_type": "code",
      "source": [
        "from google.colab import drive\n",
        "drive.mount('/content/drive')"
      ],
      "metadata": {
        "id": "LsCIJ-Y-rPrj",
        "collapsed": true
      },
      "execution_count": null,
      "outputs": []
    },
    {
      "cell_type": "code",
      "execution_count": null,
      "metadata": {
        "id": "KU-pdU1GucRq"
      },
      "outputs": [],
      "source": [
        "import pandas as pd\n",
        "import numpy as np\n",
        "from sklearn.model_selection import train_test_split\n",
        "from sklearn.feature_extraction.text import TfidfVectorizer\n",
        "from sklearn.ensemble import RandomForestClassifier\n",
        "from sklearn.metrics import classification_report\n",
        "from sklearn.pipeline import Pipeline\n",
        "from sklearn.preprocessing import OneHotEncoder\n",
        "from sklearn.compose import ColumnTransformer\n",
        "from sklearn.metrics import classification_report, accuracy_score\n",
        "from imblearn.over_sampling import SMOTE\n",
        "from imblearn.pipeline import Pipeline as ImbPipeline\n",
        "from sklearn.ensemble import RandomForestClassifier\n",
        "import regex as re\n",
        "import joblib\n",
        "from imblearn.over_sampling import SMOTE\n",
        "\n"
      ]
    },
    {
      "cell_type": "code",
      "execution_count": null,
      "metadata": {
        "id": "zeC3TdD0ucTQ"
      },
      "outputs": [],
      "source": [
        "df = pd.read_csv('/content/drive/MyDrive/gmail_data-6-months_new.csv')"
      ]
    },
    {
      "cell_type": "code",
      "execution_count": null,
      "metadata": {
        "id": "5RFX9ffnucTS",
        "colab": {
          "base_uri": "https://localhost:8080/"
        },
        "outputId": "3fbaa275-a11a-4cad-c01a-9aa6044f091a"
      },
      "outputs": [
        {
          "output_type": "execute_result",
          "data": {
            "text/plain": [
              "0"
            ]
          },
          "metadata": {},
          "execution_count": 4
        }
      ],
      "source": [
        "# Check if any NaN value exists\n",
        "df.dropna(inplace=True)\n",
        "\n",
        "# data.isnull().values.any()\n",
        "num_empty_rows = df.isnull().any(axis=1).sum() # Count if any rows if atleast one NaN value exists\n",
        "num_empty_rows"
      ]
    },
    {
      "cell_type": "code",
      "execution_count": null,
      "metadata": {
        "id": "ITwaZsUrucTV"
      },
      "outputs": [],
      "source": [
        "# Function to remove URLs from text\n",
        "def remove_urls_numbers(text):\n",
        "    url_pattern = re.compile(r'https?://\\S+|www\\.\\S+|\\d+')\n",
        "    return url_pattern.sub(r'', text)\n",
        "\n",
        "def extract_domain_names(text):\n",
        "    sender = re.compile(r'(?<=@)[a-zA-Z0-9.-]+\\.[a-zA-Z]{2,}')\n",
        "    matches = sender.findall(text)\n",
        "    return matches[0] if matches else None  # Return None if no match found\n",
        "\n",
        "# Clean the 'Body' column\n",
        "df['Body'] = df['Body'].apply(remove_urls_numbers)\n",
        "df['From'] = df['From'].apply(extract_domain_names)\n",
        "df.head()"
      ]
    },
    {
      "cell_type": "code",
      "execution_count": null,
      "metadata": {
        "id": "5nmIhsJBucTW",
        "colab": {
          "base_uri": "https://localhost:8080/"
        },
        "outputId": "b8941d8b-d814-4db9-8ff0-c98daa581e1f"
      },
      "outputs": [
        {
          "output_type": "execute_result",
          "data": {
            "text/plain": [
              "Index(['From', 'Subject', 'Read', 'Body', 'from_frequency', 'from_read_rate',\n",
              "       'email_length'],\n",
              "      dtype='object')"
            ]
          },
          "metadata": {},
          "execution_count": 6
        }
      ],
      "source": [
        "# Feature engineering\n",
        "sender_stats = df.groupby('From').agg({\n",
        "    'From': 'count',\n",
        "    'Read': 'mean'\n",
        "}).rename(columns={'From': 'from_frequency', 'Read': 'from_read_rate'}).reset_index()\n",
        "\n",
        "df = df.merge(sender_stats, on='From', how='left')\n",
        "\n",
        "df['email_length'] = df['Body'].str.len()\n",
        "df.columns\n",
        "\n",
        "# df.head()\n"
      ]
    },
    {
      "cell_type": "code",
      "execution_count": null,
      "metadata": {
        "id": "bsDsLxH0ucTX"
      },
      "outputs": [],
      "source": [
        "# Process email body and subject\n",
        "vectorizer = TfidfVectorizer(max_features=150, stop_words='english', ngram_range=(3, 5))\n",
        "tfidf_body = vectorizer.fit_transform(df['Body'])\n",
        "tfidf_sub = vectorizer.fit_transform(df['Subject'])\n",
        "\n"
      ]
    },
    {
      "cell_type": "code",
      "execution_count": null,
      "metadata": {
        "id": "YZwumStfucTa"
      },
      "outputs": [],
      "source": [
        "# tfidf_features.toarray().shape"
      ]
    },
    {
      "cell_type": "code",
      "execution_count": null,
      "metadata": {
        "id": "PqQgFrl4ucTh",
        "colab": {
          "base_uri": "https://localhost:8080/"
        },
        "outputId": "187fdc0a-db26-4042-bfb0-e8a241fe370f"
      },
      "outputs": [
        {
          "output_type": "execute_result",
          "data": {
            "text/plain": [
              "(4084, 303)"
            ]
          },
          "metadata": {},
          "execution_count": 9
        }
      ],
      "source": [
        "# Combine features\n",
        "features = pd.concat([\n",
        "    df[['from_frequency', 'from_read_rate', 'email_length']],\n",
        "    pd.DataFrame(tfidf_body.toarray(), columns=vectorizer.get_feature_names_out()),\n",
        "    pd.DataFrame(tfidf_sub.toarray(), columns=vectorizer.get_feature_names_out())\n",
        "], axis=1)\n",
        "\n",
        "features.shape\n"
      ]
    },
    {
      "cell_type": "code",
      "execution_count": null,
      "metadata": {
        "id": "DPy36XwHucTj"
      },
      "outputs": [],
      "source": [
        "# Split data\n",
        "X_train, X_test, y_train, y_test = train_test_split(features, df['Read'], test_size=0.2, random_state=42)\n"
      ]
    },
    {
      "cell_type": "code",
      "source": [
        "# Apply SMOTE\n",
        "smote = SMOTE(random_state=42)\n",
        "X_train, y_train = smote.fit_resample(X_train, y_train)"
      ],
      "metadata": {
        "id": "Nt0QZAwT8Vy6"
      },
      "execution_count": null,
      "outputs": []
    },
    {
      "cell_type": "code",
      "execution_count": null,
      "metadata": {
        "id": "39PuNH55ucTl",
        "colab": {
          "base_uri": "https://localhost:8080/",
          "height": 74
        },
        "outputId": "91bc5306-d3c4-4d97-ab44-1374cdde76d0"
      },
      "outputs": [
        {
          "output_type": "execute_result",
          "data": {
            "text/plain": [
              "RandomForestClassifier(random_state=42)"
            ],
            "text/html": [
              "<style>#sk-container-id-1 {color: black;}#sk-container-id-1 pre{padding: 0;}#sk-container-id-1 div.sk-toggleable {background-color: white;}#sk-container-id-1 label.sk-toggleable__label {cursor: pointer;display: block;width: 100%;margin-bottom: 0;padding: 0.3em;box-sizing: border-box;text-align: center;}#sk-container-id-1 label.sk-toggleable__label-arrow:before {content: \"▸\";float: left;margin-right: 0.25em;color: #696969;}#sk-container-id-1 label.sk-toggleable__label-arrow:hover:before {color: black;}#sk-container-id-1 div.sk-estimator:hover label.sk-toggleable__label-arrow:before {color: black;}#sk-container-id-1 div.sk-toggleable__content {max-height: 0;max-width: 0;overflow: hidden;text-align: left;background-color: #f0f8ff;}#sk-container-id-1 div.sk-toggleable__content pre {margin: 0.2em;color: black;border-radius: 0.25em;background-color: #f0f8ff;}#sk-container-id-1 input.sk-toggleable__control:checked~div.sk-toggleable__content {max-height: 200px;max-width: 100%;overflow: auto;}#sk-container-id-1 input.sk-toggleable__control:checked~label.sk-toggleable__label-arrow:before {content: \"▾\";}#sk-container-id-1 div.sk-estimator input.sk-toggleable__control:checked~label.sk-toggleable__label {background-color: #d4ebff;}#sk-container-id-1 div.sk-label input.sk-toggleable__control:checked~label.sk-toggleable__label {background-color: #d4ebff;}#sk-container-id-1 input.sk-hidden--visually {border: 0;clip: rect(1px 1px 1px 1px);clip: rect(1px, 1px, 1px, 1px);height: 1px;margin: -1px;overflow: hidden;padding: 0;position: absolute;width: 1px;}#sk-container-id-1 div.sk-estimator {font-family: monospace;background-color: #f0f8ff;border: 1px dotted black;border-radius: 0.25em;box-sizing: border-box;margin-bottom: 0.5em;}#sk-container-id-1 div.sk-estimator:hover {background-color: #d4ebff;}#sk-container-id-1 div.sk-parallel-item::after {content: \"\";width: 100%;border-bottom: 1px solid gray;flex-grow: 1;}#sk-container-id-1 div.sk-label:hover label.sk-toggleable__label {background-color: #d4ebff;}#sk-container-id-1 div.sk-serial::before {content: \"\";position: absolute;border-left: 1px solid gray;box-sizing: border-box;top: 0;bottom: 0;left: 50%;z-index: 0;}#sk-container-id-1 div.sk-serial {display: flex;flex-direction: column;align-items: center;background-color: white;padding-right: 0.2em;padding-left: 0.2em;position: relative;}#sk-container-id-1 div.sk-item {position: relative;z-index: 1;}#sk-container-id-1 div.sk-parallel {display: flex;align-items: stretch;justify-content: center;background-color: white;position: relative;}#sk-container-id-1 div.sk-item::before, #sk-container-id-1 div.sk-parallel-item::before {content: \"\";position: absolute;border-left: 1px solid gray;box-sizing: border-box;top: 0;bottom: 0;left: 50%;z-index: -1;}#sk-container-id-1 div.sk-parallel-item {display: flex;flex-direction: column;z-index: 1;position: relative;background-color: white;}#sk-container-id-1 div.sk-parallel-item:first-child::after {align-self: flex-end;width: 50%;}#sk-container-id-1 div.sk-parallel-item:last-child::after {align-self: flex-start;width: 50%;}#sk-container-id-1 div.sk-parallel-item:only-child::after {width: 0;}#sk-container-id-1 div.sk-dashed-wrapped {border: 1px dashed gray;margin: 0 0.4em 0.5em 0.4em;box-sizing: border-box;padding-bottom: 0.4em;background-color: white;}#sk-container-id-1 div.sk-label label {font-family: monospace;font-weight: bold;display: inline-block;line-height: 1.2em;}#sk-container-id-1 div.sk-label-container {text-align: center;}#sk-container-id-1 div.sk-container {/* jupyter's `normalize.less` sets `[hidden] { display: none; }` but bootstrap.min.css set `[hidden] { display: none !important; }` so we also need the `!important` here to be able to override the default hidden behavior on the sphinx rendered scikit-learn.org. See: https://github.com/scikit-learn/scikit-learn/issues/21755 */display: inline-block !important;position: relative;}#sk-container-id-1 div.sk-text-repr-fallback {display: none;}</style><div id=\"sk-container-id-1\" class=\"sk-top-container\"><div class=\"sk-text-repr-fallback\"><pre>RandomForestClassifier(random_state=42)</pre><b>In a Jupyter environment, please rerun this cell to show the HTML representation or trust the notebook. <br />On GitHub, the HTML representation is unable to render, please try loading this page with nbviewer.org.</b></div><div class=\"sk-container\" hidden><div class=\"sk-item\"><div class=\"sk-estimator sk-toggleable\"><input class=\"sk-toggleable__control sk-hidden--visually\" id=\"sk-estimator-id-1\" type=\"checkbox\" checked><label for=\"sk-estimator-id-1\" class=\"sk-toggleable__label sk-toggleable__label-arrow\">RandomForestClassifier</label><div class=\"sk-toggleable__content\"><pre>RandomForestClassifier(random_state=42)</pre></div></div></div></div></div>"
            ]
          },
          "metadata": {},
          "execution_count": 12
        }
      ],
      "source": [
        "# Train model\n",
        "model = RandomForestClassifier(n_estimators=100, random_state=42)\n",
        "model.fit(X_train, y_train)"
      ]
    },
    {
      "cell_type": "code",
      "execution_count": null,
      "metadata": {
        "id": "48rl46JbucTl"
      },
      "outputs": [],
      "source": [
        "# Evaluate model\n",
        "y_pred = model.predict(X_test)\n",
        "print(\"Accuracy:\", accuracy_score(y_test, y_pred))\n",
        "print(classification_report(y_test, y_pred))\n"
      ]
    },
    {
      "cell_type": "code",
      "execution_count": null,
      "metadata": {
        "id": "skiObjC6ucTm"
      },
      "outputs": [],
      "source": [
        "# Feature importance\n",
        "feature_importance = pd.DataFrame({\n",
        "    'feature': features.columns,\n",
        "    'importance': model.feature_importances_\n",
        "}).sort_values('importance', ascending=False)\n",
        "print(feature_importance.head(10))\n"
      ]
    },
    {
      "cell_type": "code",
      "execution_count": null,
      "metadata": {
        "id": "H96czr0ZucTn"
      },
      "outputs": [],
      "source": [
        "# Feature importance\n",
        "feature_importance = model.feature_importances_\n",
        "feature_names = vectorizer.get_feature_names_out()\n",
        "for importance, name in sorted(zip(feature_importance, feature_names), reverse=True)[:10]:\n",
        "    print(name, \":\", importance)\n"
      ]
    },
    {
      "cell_type": "code",
      "execution_count": null,
      "metadata": {
        "id": "0jwCehOOucTn",
        "colab": {
          "base_uri": "https://localhost:8080/"
        },
        "outputId": "27c17945-fa6b-4daa-f962-ea7b60daf354"
      },
      "outputs": [
        {
          "output_type": "execute_result",
          "data": {
            "text/plain": [
              "['email_vectorizer.joblib']"
            ]
          },
          "metadata": {},
          "execution_count": 16
        }
      ],
      "source": [
        "# Save the model and vectorizer\n",
        "joblib.dump(model, 'email_read_model.joblib')\n",
        "joblib.dump(vectorizer, 'email_vectorizer.joblib')\n"
      ]
    },
    {
      "cell_type": "code",
      "source": [
        "# Function to predict on a new email\n",
        "def predict_email_read(from_address, subject, body):\n",
        "    # Load the saved model and vectorizer\n",
        "    loaded_model = joblib.load('email_read_model.joblib')\n",
        "    loaded_vectorizer = joblib.load('email_vectorizer.joblib')\n",
        "\n",
        "    # Apply body changes\n",
        "    clean_body = remove_urls_numbers(body)\n",
        "    domain_name = extract_domain_names(from_address)\n",
        "\n",
        "    # Create features\n",
        "    from_freq = df[df['From'] == domain_name]['from_frequency'].values[0] if domain_name in df['From'].values else 0\n",
        "    from_read_rate = df[df['From'] == domain_name]['from_read_rate'].values[0] if domain_name in df['From'].values else 0\n",
        "    email_length = len(clean_body)\n",
        "\n",
        "    # Process body\n",
        "    tfidf_body = loaded_vectorizer.transform([clean_body])\n",
        "    tfidf_subject = loaded_vectorizer.transform([subject])\n",
        "\n",
        "    # Combine features\n",
        "    email_features = pd.DataFrame({\n",
        "        'from_frequency': [from_freq],\n",
        "        'from_read_rate': [from_read_rate],\n",
        "        'email_length': [email_length]\n",
        "    })\n",
        "    email_features = pd.concat([\n",
        "        email_features,\n",
        "        pd.DataFrame(tfidf_body.toarray(), columns=loaded_vectorizer.get_feature_names_out()),\n",
        "        pd.DataFrame(tfidf_subject.toarray(), columns=loaded_vectorizer.get_feature_names_out())\n",
        "    ], axis=1)\n",
        "\n",
        "    email_features.head()\n",
        "\n",
        "    # Predict\n",
        "    prediction = loaded_model.predict(email_features)\n",
        "    probability = loaded_model.predict_proba(email_features)[0][1]  # Probability of being read\n",
        "\n",
        "    return prediction[0], probability\n"
      ],
      "metadata": {
        "id": "Iclo438YyAlN"
      },
      "execution_count": null,
      "outputs": []
    },
    {
      "cell_type": "code",
      "source": [
        "# Example usage\n",
        "new_email_from = \"\"\n",
        "new_email_subject = \"\"\n",
        "new_email_body = \"\"\"\n",
        "\n",
        "\"\"\"\n",
        "\n",
        "prediction, probability = predict_email_read(new_email_from, new_email_subject, new_email_body)\n",
        "print(f\"Prediction: {'Will be read' if prediction == 1 else 'Will not be read'}\")\n",
        "print(f\"Probability of being read: {probability:.2f}\")"
      ],
      "metadata": {
        "id": "R-msia6ZySn_"
      },
      "execution_count": null,
      "outputs": []
    },
    {
      "cell_type": "code",
      "source": [
        "\"\"\"\n",
        "\n",
        "Problem:\n",
        "- if the email doesnt exist then theres 0 chance of me opening\n",
        "- even if there is no body content it will show me a probability of being read\n",
        "- if sender is slightly skewed, then prob is 0 even if i've received and read their mails in the past.\n",
        "- Highly dependant on sender, not the body\n",
        "\n",
        "\"\"\"\n",
        "\n",
        "\"\"\"\n",
        "Quick Fixes:\n",
        "- changed ngram to 2\n",
        "\n",
        "\"\"\""
      ],
      "metadata": {
        "id": "A2CMvB6LzHZ1",
        "colab": {
          "base_uri": "https://localhost:8080/",
          "height": 36
        },
        "outputId": "25d19ae3-86e9-419c-b139-562ed8b58bb8"
      },
      "execution_count": null,
      "outputs": [
        {
          "output_type": "execute_result",
          "data": {
            "text/plain": [
              "'\\nQuick Fixes:\\n- changed ngram to 2\\n\\n'"
            ],
            "application/vnd.google.colaboratory.intrinsic+json": {
              "type": "string"
            }
          },
          "metadata": {},
          "execution_count": 19
        }
      ]
    },
    {
      "cell_type": "code",
      "source": [],
      "metadata": {
        "id": "FnRq1A8rKlTZ"
      },
      "execution_count": null,
      "outputs": []
    }
  ],
  "metadata": {
    "kernelspec": {
      "display_name": "Python 3",
      "language": "python",
      "name": "python3"
    },
    "language_info": {
      "codemirror_mode": {
        "name": "ipython",
        "version": 3
      },
      "file_extension": ".py",
      "mimetype": "text/x-python",
      "name": "python",
      "nbconvert_exporter": "python",
      "pygments_lexer": "ipython3",
      "version": "3.12.0"
    },
    "colab": {
      "provenance": [],
      "include_colab_link": true
    }
  },
  "nbformat": 4,
  "nbformat_minor": 0
}