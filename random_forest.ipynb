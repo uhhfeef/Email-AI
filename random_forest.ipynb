{
  "cells": [
    {
      "cell_type": "markdown",
      "metadata": {
        "id": "view-in-github",
        "colab_type": "text"
      },
      "source": [
        "<a href=\"https://colab.research.google.com/github/uhhfeef/Email-AI/blob/main/random_forest.ipynb\" target=\"_parent\"><img src=\"https://colab.research.google.com/assets/colab-badge.svg\" alt=\"Open In Colab\"/></a>"
      ]
    },
    {
      "cell_type": "code",
      "source": [
        "from google.colab import drive\n",
        "drive.mount('/content/drive')"
      ],
      "metadata": {
        "colab": {
          "base_uri": "https://localhost:8080/"
        },
        "id": "LsCIJ-Y-rPrj",
        "outputId": "d53291e8-b6eb-4b18-ce56-d7f4a63a6117",
        "collapsed": true
      },
      "execution_count": 1,
      "outputs": [
        {
          "output_type": "stream",
          "name": "stdout",
          "text": [
            "Drive already mounted at /content/drive; to attempt to forcibly remount, call drive.mount(\"/content/drive\", force_remount=True).\n"
          ]
        }
      ]
    },
    {
      "cell_type": "code",
      "execution_count": 2,
      "metadata": {
        "id": "KU-pdU1GucRq"
      },
      "outputs": [],
      "source": [
        "import pandas as pd\n",
        "import numpy as np\n",
        "from sklearn.model_selection import train_test_split\n",
        "from sklearn.feature_extraction.text import TfidfVectorizer\n",
        "from sklearn.ensemble import RandomForestClassifier\n",
        "from sklearn.metrics import classification_report\n",
        "from sklearn.pipeline import Pipeline\n",
        "from sklearn.preprocessing import OneHotEncoder\n",
        "from sklearn.compose import ColumnTransformer\n",
        "from sklearn.metrics import classification_report, accuracy_score\n",
        "from imblearn.over_sampling import SMOTE\n",
        "from imblearn.pipeline import Pipeline as ImbPipeline\n",
        "from sklearn.ensemble import RandomForestClassifier\n",
        "import regex as re\n",
        "import joblib\n",
        "from imblearn.over_sampling import SMOTE\n",
        "\n"
      ]
    },
    {
      "cell_type": "code",
      "execution_count": 3,
      "metadata": {
        "id": "zeC3TdD0ucTQ"
      },
      "outputs": [],
      "source": [
        "df = pd.read_csv('/content/drive/MyDrive/gmail_data-6-months_new.csv')"
      ]
    },
    {
      "cell_type": "code",
      "execution_count": 4,
      "metadata": {
        "id": "5RFX9ffnucTS",
        "colab": {
          "base_uri": "https://localhost:8080/"
        },
        "outputId": "6a5ae787-3a57-420a-f7a1-3ef076fb5939"
      },
      "outputs": [
        {
          "output_type": "execute_result",
          "data": {
            "text/plain": [
              "0"
            ]
          },
          "metadata": {},
          "execution_count": 4
        }
      ],
      "source": [
        "# Check if any NaN value exists\n",
        "df.dropna(inplace=True)\n",
        "\n",
        "# data.isnull().values.any()\n",
        "num_empty_rows = df.isnull().any(axis=1).sum() # Count if any rows if atleast one NaN value exists\n",
        "num_empty_rows"
      ]
    },
    {
      "cell_type": "code",
      "execution_count": 5,
      "metadata": {
        "id": "ITwaZsUrucTV",
        "colab": {
          "base_uri": "https://localhost:8080/",
          "height": 206
        },
        "outputId": "2be231cb-9947-49f7-fa98-d6f6bd2aad45"
      },
      "outputs": [
        {
          "output_type": "execute_result",
          "data": {
            "text/plain": [
              "                  From                                            Subject  \\\n",
              "0  accounts.google.com                                     Security alert   \n",
              "1          todoist.com  Afeef’s task(s) for Sep 18 2024 → 1 due, 3 ove...   \n",
              "2    info.emeritus.org  Afeef Khan, your personalized recommendations ...   \n",
              "3     email.meetup.com  Lets Talk E-Commerce Dubai Meetup Group: We lo...   \n",
              "4         substack.com  Design a Scalable Notification Service - Syste...   \n",
              "\n",
              "    Read                                               Body  \n",
              "0  False  [image: Google]\\r\\nGoogle Drive for desktop wa...  \n",
              "1  False  Afeef’s task(s) for Sep   →  due,  overdue\\r\\n...  \n",
              "2  False  \\r\\n To view this email as a web page, go to t...  \n",
              "3  False  <p><strong><span style=\"color : #\">We had + am...  \n",
              "4  False  View this post on the web at \\r\\n\\r\\nA notific...  "
            ],
            "text/html": [
              "\n",
              "  <div id=\"df-0374a53a-4d9b-41c8-ba6e-7b6a991c355f\" class=\"colab-df-container\">\n",
              "    <div>\n",
              "<style scoped>\n",
              "    .dataframe tbody tr th:only-of-type {\n",
              "        vertical-align: middle;\n",
              "    }\n",
              "\n",
              "    .dataframe tbody tr th {\n",
              "        vertical-align: top;\n",
              "    }\n",
              "\n",
              "    .dataframe thead th {\n",
              "        text-align: right;\n",
              "    }\n",
              "</style>\n",
              "<table border=\"1\" class=\"dataframe\">\n",
              "  <thead>\n",
              "    <tr style=\"text-align: right;\">\n",
              "      <th></th>\n",
              "      <th>From</th>\n",
              "      <th>Subject</th>\n",
              "      <th>Read</th>\n",
              "      <th>Body</th>\n",
              "    </tr>\n",
              "  </thead>\n",
              "  <tbody>\n",
              "    <tr>\n",
              "      <th>0</th>\n",
              "      <td>accounts.google.com</td>\n",
              "      <td>Security alert</td>\n",
              "      <td>False</td>\n",
              "      <td>[image: Google]\\r\\nGoogle Drive for desktop wa...</td>\n",
              "    </tr>\n",
              "    <tr>\n",
              "      <th>1</th>\n",
              "      <td>todoist.com</td>\n",
              "      <td>Afeef’s task(s) for Sep 18 2024 → 1 due, 3 ove...</td>\n",
              "      <td>False</td>\n",
              "      <td>Afeef’s task(s) for Sep   →  due,  overdue\\r\\n...</td>\n",
              "    </tr>\n",
              "    <tr>\n",
              "      <th>2</th>\n",
              "      <td>info.emeritus.org</td>\n",
              "      <td>Afeef Khan, your personalized recommendations ...</td>\n",
              "      <td>False</td>\n",
              "      <td>\\r\\n To view this email as a web page, go to t...</td>\n",
              "    </tr>\n",
              "    <tr>\n",
              "      <th>3</th>\n",
              "      <td>email.meetup.com</td>\n",
              "      <td>Lets Talk E-Commerce Dubai Meetup Group: We lo...</td>\n",
              "      <td>False</td>\n",
              "      <td>&lt;p&gt;&lt;strong&gt;&lt;span style=\"color : #\"&gt;We had + am...</td>\n",
              "    </tr>\n",
              "    <tr>\n",
              "      <th>4</th>\n",
              "      <td>substack.com</td>\n",
              "      <td>Design a Scalable Notification Service - Syste...</td>\n",
              "      <td>False</td>\n",
              "      <td>View this post on the web at \\r\\n\\r\\nA notific...</td>\n",
              "    </tr>\n",
              "  </tbody>\n",
              "</table>\n",
              "</div>\n",
              "    <div class=\"colab-df-buttons\">\n",
              "\n",
              "  <div class=\"colab-df-container\">\n",
              "    <button class=\"colab-df-convert\" onclick=\"convertToInteractive('df-0374a53a-4d9b-41c8-ba6e-7b6a991c355f')\"\n",
              "            title=\"Convert this dataframe to an interactive table.\"\n",
              "            style=\"display:none;\">\n",
              "\n",
              "  <svg xmlns=\"http://www.w3.org/2000/svg\" height=\"24px\" viewBox=\"0 -960 960 960\">\n",
              "    <path d=\"M120-120v-720h720v720H120Zm60-500h600v-160H180v160Zm220 220h160v-160H400v160Zm0 220h160v-160H400v160ZM180-400h160v-160H180v160Zm440 0h160v-160H620v160ZM180-180h160v-160H180v160Zm440 0h160v-160H620v160Z\"/>\n",
              "  </svg>\n",
              "    </button>\n",
              "\n",
              "  <style>\n",
              "    .colab-df-container {\n",
              "      display:flex;\n",
              "      gap: 12px;\n",
              "    }\n",
              "\n",
              "    .colab-df-convert {\n",
              "      background-color: #E8F0FE;\n",
              "      border: none;\n",
              "      border-radius: 50%;\n",
              "      cursor: pointer;\n",
              "      display: none;\n",
              "      fill: #1967D2;\n",
              "      height: 32px;\n",
              "      padding: 0 0 0 0;\n",
              "      width: 32px;\n",
              "    }\n",
              "\n",
              "    .colab-df-convert:hover {\n",
              "      background-color: #E2EBFA;\n",
              "      box-shadow: 0px 1px 2px rgba(60, 64, 67, 0.3), 0px 1px 3px 1px rgba(60, 64, 67, 0.15);\n",
              "      fill: #174EA6;\n",
              "    }\n",
              "\n",
              "    .colab-df-buttons div {\n",
              "      margin-bottom: 4px;\n",
              "    }\n",
              "\n",
              "    [theme=dark] .colab-df-convert {\n",
              "      background-color: #3B4455;\n",
              "      fill: #D2E3FC;\n",
              "    }\n",
              "\n",
              "    [theme=dark] .colab-df-convert:hover {\n",
              "      background-color: #434B5C;\n",
              "      box-shadow: 0px 1px 3px 1px rgba(0, 0, 0, 0.15);\n",
              "      filter: drop-shadow(0px 1px 2px rgba(0, 0, 0, 0.3));\n",
              "      fill: #FFFFFF;\n",
              "    }\n",
              "  </style>\n",
              "\n",
              "    <script>\n",
              "      const buttonEl =\n",
              "        document.querySelector('#df-0374a53a-4d9b-41c8-ba6e-7b6a991c355f button.colab-df-convert');\n",
              "      buttonEl.style.display =\n",
              "        google.colab.kernel.accessAllowed ? 'block' : 'none';\n",
              "\n",
              "      async function convertToInteractive(key) {\n",
              "        const element = document.querySelector('#df-0374a53a-4d9b-41c8-ba6e-7b6a991c355f');\n",
              "        const dataTable =\n",
              "          await google.colab.kernel.invokeFunction('convertToInteractive',\n",
              "                                                    [key], {});\n",
              "        if (!dataTable) return;\n",
              "\n",
              "        const docLinkHtml = 'Like what you see? Visit the ' +\n",
              "          '<a target=\"_blank\" href=https://colab.research.google.com/notebooks/data_table.ipynb>data table notebook</a>'\n",
              "          + ' to learn more about interactive tables.';\n",
              "        element.innerHTML = '';\n",
              "        dataTable['output_type'] = 'display_data';\n",
              "        await google.colab.output.renderOutput(dataTable, element);\n",
              "        const docLink = document.createElement('div');\n",
              "        docLink.innerHTML = docLinkHtml;\n",
              "        element.appendChild(docLink);\n",
              "      }\n",
              "    </script>\n",
              "  </div>\n",
              "\n",
              "\n",
              "<div id=\"df-d4b6053e-81a1-43eb-8833-96f9a0fc9bad\">\n",
              "  <button class=\"colab-df-quickchart\" onclick=\"quickchart('df-d4b6053e-81a1-43eb-8833-96f9a0fc9bad')\"\n",
              "            title=\"Suggest charts\"\n",
              "            style=\"display:none;\">\n",
              "\n",
              "<svg xmlns=\"http://www.w3.org/2000/svg\" height=\"24px\"viewBox=\"0 0 24 24\"\n",
              "     width=\"24px\">\n",
              "    <g>\n",
              "        <path d=\"M19 3H5c-1.1 0-2 .9-2 2v14c0 1.1.9 2 2 2h14c1.1 0 2-.9 2-2V5c0-1.1-.9-2-2-2zM9 17H7v-7h2v7zm4 0h-2V7h2v10zm4 0h-2v-4h2v4z\"/>\n",
              "    </g>\n",
              "</svg>\n",
              "  </button>\n",
              "\n",
              "<style>\n",
              "  .colab-df-quickchart {\n",
              "      --bg-color: #E8F0FE;\n",
              "      --fill-color: #1967D2;\n",
              "      --hover-bg-color: #E2EBFA;\n",
              "      --hover-fill-color: #174EA6;\n",
              "      --disabled-fill-color: #AAA;\n",
              "      --disabled-bg-color: #DDD;\n",
              "  }\n",
              "\n",
              "  [theme=dark] .colab-df-quickchart {\n",
              "      --bg-color: #3B4455;\n",
              "      --fill-color: #D2E3FC;\n",
              "      --hover-bg-color: #434B5C;\n",
              "      --hover-fill-color: #FFFFFF;\n",
              "      --disabled-bg-color: #3B4455;\n",
              "      --disabled-fill-color: #666;\n",
              "  }\n",
              "\n",
              "  .colab-df-quickchart {\n",
              "    background-color: var(--bg-color);\n",
              "    border: none;\n",
              "    border-radius: 50%;\n",
              "    cursor: pointer;\n",
              "    display: none;\n",
              "    fill: var(--fill-color);\n",
              "    height: 32px;\n",
              "    padding: 0;\n",
              "    width: 32px;\n",
              "  }\n",
              "\n",
              "  .colab-df-quickchart:hover {\n",
              "    background-color: var(--hover-bg-color);\n",
              "    box-shadow: 0 1px 2px rgba(60, 64, 67, 0.3), 0 1px 3px 1px rgba(60, 64, 67, 0.15);\n",
              "    fill: var(--button-hover-fill-color);\n",
              "  }\n",
              "\n",
              "  .colab-df-quickchart-complete:disabled,\n",
              "  .colab-df-quickchart-complete:disabled:hover {\n",
              "    background-color: var(--disabled-bg-color);\n",
              "    fill: var(--disabled-fill-color);\n",
              "    box-shadow: none;\n",
              "  }\n",
              "\n",
              "  .colab-df-spinner {\n",
              "    border: 2px solid var(--fill-color);\n",
              "    border-color: transparent;\n",
              "    border-bottom-color: var(--fill-color);\n",
              "    animation:\n",
              "      spin 1s steps(1) infinite;\n",
              "  }\n",
              "\n",
              "  @keyframes spin {\n",
              "    0% {\n",
              "      border-color: transparent;\n",
              "      border-bottom-color: var(--fill-color);\n",
              "      border-left-color: var(--fill-color);\n",
              "    }\n",
              "    20% {\n",
              "      border-color: transparent;\n",
              "      border-left-color: var(--fill-color);\n",
              "      border-top-color: var(--fill-color);\n",
              "    }\n",
              "    30% {\n",
              "      border-color: transparent;\n",
              "      border-left-color: var(--fill-color);\n",
              "      border-top-color: var(--fill-color);\n",
              "      border-right-color: var(--fill-color);\n",
              "    }\n",
              "    40% {\n",
              "      border-color: transparent;\n",
              "      border-right-color: var(--fill-color);\n",
              "      border-top-color: var(--fill-color);\n",
              "    }\n",
              "    60% {\n",
              "      border-color: transparent;\n",
              "      border-right-color: var(--fill-color);\n",
              "    }\n",
              "    80% {\n",
              "      border-color: transparent;\n",
              "      border-right-color: var(--fill-color);\n",
              "      border-bottom-color: var(--fill-color);\n",
              "    }\n",
              "    90% {\n",
              "      border-color: transparent;\n",
              "      border-bottom-color: var(--fill-color);\n",
              "    }\n",
              "  }\n",
              "</style>\n",
              "\n",
              "  <script>\n",
              "    async function quickchart(key) {\n",
              "      const quickchartButtonEl =\n",
              "        document.querySelector('#' + key + ' button');\n",
              "      quickchartButtonEl.disabled = true;  // To prevent multiple clicks.\n",
              "      quickchartButtonEl.classList.add('colab-df-spinner');\n",
              "      try {\n",
              "        const charts = await google.colab.kernel.invokeFunction(\n",
              "            'suggestCharts', [key], {});\n",
              "      } catch (error) {\n",
              "        console.error('Error during call to suggestCharts:', error);\n",
              "      }\n",
              "      quickchartButtonEl.classList.remove('colab-df-spinner');\n",
              "      quickchartButtonEl.classList.add('colab-df-quickchart-complete');\n",
              "    }\n",
              "    (() => {\n",
              "      let quickchartButtonEl =\n",
              "        document.querySelector('#df-d4b6053e-81a1-43eb-8833-96f9a0fc9bad button');\n",
              "      quickchartButtonEl.style.display =\n",
              "        google.colab.kernel.accessAllowed ? 'block' : 'none';\n",
              "    })();\n",
              "  </script>\n",
              "</div>\n",
              "\n",
              "    </div>\n",
              "  </div>\n"
            ],
            "application/vnd.google.colaboratory.intrinsic+json": {
              "type": "dataframe",
              "variable_name": "df",
              "summary": "{\n  \"name\": \"df\",\n  \"rows\": 4084,\n  \"fields\": [\n    {\n      \"column\": \"From\",\n      \"properties\": {\n        \"dtype\": \"category\",\n        \"num_unique_values\": 252,\n        \"samples\": [\n          \"tamm.abudhabi\",\n          \"mail.beehiiv.com\",\n          \"mail.possaible.com\"\n        ],\n        \"semantic_type\": \"\",\n        \"description\": \"\"\n      }\n    },\n    {\n      \"column\": \"Subject\",\n      \"properties\": {\n        \"dtype\": \"string\",\n        \"num_unique_values\": 3684,\n        \"samples\": [\n          \"Entrepreneurship & Mental Health: Nathan Kong's Story\",\n          \"Welcome to VectorShift!\",\n          \"Your 3 AI Incubator Tracks: Curriculum, Coaching, or 1-on-1 Mentorship\"\n        ],\n        \"semantic_type\": \"\",\n        \"description\": \"\"\n      }\n    },\n    {\n      \"column\": \"Read\",\n      \"properties\": {\n        \"dtype\": \"boolean\",\n        \"num_unique_values\": 2,\n        \"samples\": [\n          true,\n          false\n        ],\n        \"semantic_type\": \"\",\n        \"description\": \"\"\n      }\n    },\n    {\n      \"column\": \"Body\",\n      \"properties\": {\n        \"dtype\": \"string\",\n        \"num_unique_values\": 3653,\n        \"samples\": [\n          \"\\u200b\\r\\n\\r\\n\\u201cIt\\u2019s not about the apps \\u2013 it\\u2019s about the system.\\u201d\\r\\n\\r\\nIf I could send one sentence back to my -year-old self just\\r\\nembarking on the path of mastering my information consumption,\\r\\nthat would be it.\\r\\n\\r\\nIt's so easy to think that if you could just master the\\r\\nins-and-outs of your favorite note-taking method, you'd have it\\r\\nall figured out and your challenges with the information in your\\r\\nlife would magically resolve.\\r\\n\\r\\nBut that's not how it works, unfortunately.\\r\\n\\r\\nThe reality is much closer to what one of my students once told\\r\\nme. He said, \\\"I have ALL the tools and NONE of the results!\\\"\\r\\n\\r\\nSo, after seeing so many people burned by the assumption that\\r\\nthey just have find and master the right app and being\\r\\ndisappointed myself time after time I can tell you that\\u2026no one is\\r\\ncoming to save you.\\r\\n\\r\\nYou have to save yourself!\\r\\n\\r\\nApps and tools come and go, but there is one thing that endures:\\r\\nyour system.\\r\\n\\r\\nThere is a collection of habits, principles, and techniques you\\r\\ncan adopt that will stand the test of time even as the underlying\\r\\ntechnology changes drastically.\\r\\n\\r\\nThink of it as an operating system, like Windows or iOS. Except\\r\\nfor your life and work.\\r\\n\\r\\nI call that system CODE and it's made up of four parts:\\r\\n\\r\\n* Capture \\u2013 a way to save the most important information in a\\r\\nplace you control\\r\\n* Organize \\u2013 a way to organize the information you value\\r\\nlong-term\\r\\n* Distill \\u2013 a way to identify the most important ideas and\\r\\ntakeaways\\r\\n* Express \\u2013 a way to communicate what you've discovered\\r\\n\\r\\nNotice that none of these are specific apps. They utilize apps to\\r\\naccomplish something but don't depend on any particular one.\\r\\n\\r\\nYou'll also notice that you're already doing these things in some\\r\\nform. Whether you're using a digital note-taking app or capturing\\r\\nnotes on paper, you likely have a way of saving information. But\\r\\narbitrarily hoarding stuff isn't enough. You also need a way to\\r\\norganize it, decide which bits matter, and then communicate these\\r\\nideas where they're most impactful.\\r\\n\\r\\nWe're turning each of those vital functions into a holistic\\r\\nsystem. Instead of working at odds with each other, each of these\\r\\nsubsystems can pull in the same direction and flow in harmony.\\r\\n\\r\\nThink of it as your personal workflow, your creative process, or\\r\\nsimply the steps you take to turn inputs into outputs.\\r\\n\\r\\nCODE gives you an overarching framework for understanding how\\r\\neach of the dozens of apps and tools you use fit together.\\r\\n\\r\\nIt gives you a direction for information to move in \\u2013 from left\\r\\nto right. And it biases all your interactions with information\\r\\ntoward action, rather than the constant temptation of\\r\\nover-organizing to death.\\r\\n\\r\\nWatch out for my next email on Saturday, where I share with you\\r\\nsome next steps. I'll tell you about a special offer I'm putting\\r\\ntogether for you to help you have more of what you want and less\\r\\nof what you don't in life.\\r\\n\\r\\nBest,\\r\\nTiago\\r\\n\\r\\n-->\\r\\n\\r\\n-----------\\r\\nTiago Forte\\r\\n-----------\\r\\n\\r\\n\\u200b (\\r\\n\\r\\n) \\u200b (\\r\\n\\r\\n) \\u200b (\\r\\n\\r\\n) \\u200b (\\r\\n\\r\\n) \\u200b (\\r\\n\\r\\n)\\r\\n\\r\\n\\u200b\\r\\n\\r\\nWant to receive emails from us at a different email address? \\u200b\\r\\n\\u200bUpdate your preferences (\\r\\n\\r\\n)\\u200b\\r\\n\\r\\nWant to stop receiving emails from us completely?\\u200b\\r\\n\\u200bUnsubscribe from everything (\\r\\n\\r\\n). (Use with caution!)\\r\\n\\r\\n\\u200b\\r\\n\\r\\n E. nd St. PMB , Long Beach, CA \",\n          \"Microsoft and Apple will no longer have representatives in non-voting\\r\\nobserver roles on OpenAI's board, likely a reaction to regulators\\u00a0 \\r\\n\\r\\n Sign Up [] |Advertise []|View Online [] \\r\\n\\r\\n\\t\\tTLDR \\r\\n\\r\\n\\t\\tTOGETHER WITH [TLDR] []\\r\\n\\r\\nTLDR --\\r\\n\\r\\n GET YOUR BRAND IN FRONT OF + MILLION TECH PROFESSIONALS (SPONSOR)\\r\\n[] \\r\\n\\r\\n If you're looking to get in front of a highly engaged tech audience,\\r\\nconsider advertising in TLDR. We have  newsletters to choose from\\r\\nand a subscriber base of + million tech professionals to effectively\\r\\nreach your target audience. Learn more [] about running your first\\r\\ncampaign with us. \\r\\n\\r\\n\\ud83d\\udcf1 \\r\\n\\r\\nBIG TECH & STARTUPS\\r\\n\\r\\n OPENAI BOARD SHAKE-UP: MICROSOFT OUT, APPLE BACKS AWAY AMID AI\\r\\nPARTNERSHIP SCRUTINY ( MINUTE READ) [] \\r\\n\\r\\n Microsoft and Apple will no longer have representatives in non-voting\\r\\nobserver roles on OpenAI's board. Microsoft withdrew from the role\\r\\nwhile Apple opted not to take the position. OpenAI plans to update\\r\\nbusiness partners and investors through regular meetings instead of\\r\\nboard representation. The changes are likely a reaction to regulators\\r\\nin the EU and US increasing their scrutiny of Big Tech's investments\\r\\nin AI startups due to concerns about stifling competition. \\r\\n\\r\\n SAMSUNG LAUNCHES THE GALAXY RING \\u2014 A FIRST-OF-ITS-KIND PRODUCT FOR\\r\\nTHE TECH GIANT ( MINUTE READ) [] \\r\\n\\r\\n Samsung has launched its first foray into smart rings. The Galaxy\\r\\nRing is a lightweight ring equipped with sensors designed for health\\r\\nmonitoring  hours a day. It uses AI software to offer a\\r\\ncomprehensive picture of wearers' health. The ring, which weighs\\r\\nbetween . grams and  grams depending on the size, has a battery\\r\\nthat can last up to seven days. It comes in three colors and will be\\r\\navailable on July  starting from $.. \\r\\n\\r\\n\\ud83d\\ude80 \\r\\n\\r\\nSCIENCE & FUTURISTIC TECHNOLOGY\\r\\n\\r\\n MUSK SAYS NEXT NEURALINK BRAIN IMPLANT EXPECTED SOON, DESPITE ISSUES\\r\\nWITH THE FIRST PATIENT ( MINUTE READ) [] \\r\\n\\r\\n Neuralink plans to implant its system into a second patient within\\r\\nthe next few weeks. The company is aiming to implant its device in\\r\\n'high single digits' of patients this year. While only around % of\\r\\nthe channels in the first patient are still functional, the patient is\\r\\nstill about to use the device to watch videos, read, and play chess or\\r\\nother video games, sometimes up to  hours per week. Neuralink will\\r\\nbe making changes to address the hardware problems it encountered with\\r\\nits first participant, with a focus on mitigating retraction. \\r\\n\\r\\n NEW HIV PREVENTION DRUG SHOWS % EFFICACY IN CLINICAL TRIAL (\\r\\nMINUTE READ) [] \\r\\n\\r\\n A twice-yearly injection of a new pre-exposure prophylaxis drug was\\r\\nshown to provide young women total protection from HIV infection in a\\r\\nlarge clinical trial performed in South Africa and Uganda. The drug,\\r\\nlenacapavir, works by interfering with the protein shell that protects\\r\\nHIV's genetic material and the enzymes needed for replication. Gilead\\r\\nSciences plans to submit the drug for approval with a number of\\r\\ncountry regulators within the next couple of months. It will offer\\r\\nlicenses to companies that make generic drugs to help get prices down.\\r\\n\\r\\n\\r\\n\\ud83d\\udcbb \\r\\n\\r\\nPROGRAMMING, DESIGN & DATA SCIENCE\\r\\n\\r\\n WHAT DATADOG LEARNED FROM .BN CONTAINERS (SPONSOR) [] \\r\\n\\r\\n Datadog researchers examined more than . billion containers [] run\\r\\nby tens of thousands of customers. What are the most prominent\\r\\npatterns when it comes to container usage, security, and\\r\\nimplementation? Download the full report here \\u2192  Insights On\\r\\nReal-World Container Usage (PDF) [] \\r\\n\\r\\n HOW TO INTERVIEW AND HIRE ML/AI ENGINEERS ( MINUTE READ) [] \\r\\n\\r\\n Hiring well requires running effective interviews. Interview systems\\r\\nshould be reliable, valid, and contain minimal noise. This article\\r\\ndiscusses how to interview candidates for machine learning and AI\\r\\nroles. It covers what technical and non-technical qualities to assess\\r\\nand how to calibrate phone screens, run the interview loop, and\\r\\ndebrief. It also provides tips for interviews and hiring managers and\\r\\nlooks at what traits make for a good hire. \\r\\n\\r\\n POSTING (GITHUB REPO) [] \\r\\n\\r\\n Posting is an HTTP client that can be used over SSH. It enables\\r\\nefficient keyboard-centric workflows. Posting stores requests locally\\r\\nin simple, easy to read and version control YAML files. Notable\\r\\nfeatures include jump mode navigation, an environment/variables system\\r\\nwith autocompletion, syntax highlighting powered by tree-sitter, Vim\\r\\nkeys, and more. \\r\\n\\r\\n\\ud83c\\udf81 \\r\\n\\r\\nMISCELLANEOUS\\r\\n\\r\\n INTERVIEWING META CTO ANDREW BOSWORTH ON THE METAVERSE, VR/AR, AI,\\r\\nBILLION-DOLLAR EXPENDITURES, AND INVESTMENT TIMELINES ( MINUTE READ)\\r\\n[] \\r\\n\\r\\n Meta's CTO Andrew Bosworth joined Facebook in  as the company's\\r\\n~th engineer. He helped build the original News Feed, Messenger,\\r\\nGroups, and many early anti-abuse and infrastructure systems. Bosworth\\r\\nran the Ads and Business Platform product group and he is currently\\r\\nalso the Head of Reality Labs. In this interview, Bosworth discusses\\r\\nMeta's metaverse strategy, VR/MR headset sales, the specs of his dream\\r\\nheadset, Meta's spending on Reality Labs, and much more. \\r\\n\\r\\n BIG TECH JOBS ARE NOT WHAT THEY WERE ( MINUTE READ) [] \\r\\n\\r\\n Today's big tech job options offer great compensation, incredible\\r\\nplatforms for scale and impact, and slow but consistent growth over\\r\\ntime. However, the kind of growth most companies experienced over the\\r\\nlast few decades simply cannot happen again, rocket-ride careers are\\r\\nlargely over, and there is increasing bureaucracy in the industry.\\r\\nMost of big tech is still laying off or not hiring and there is\\r\\nincreasing return to office pressure. Working with big tech would suit\\r\\npeople looking for stability, new graduates, and those looking for a\\r\\npath to retirement. Those who can afford higher risk, people who have\\r\\nalready received credentials from a big tech job, and anyone who\\r\\ncannot stand being part of a large, slow system should look elsewhere.\\r\\n\\r\\n\\r\\n\\u26a1 \\r\\n\\r\\nQUICK LINKS\\r\\n\\r\\n BECOME A BETTER DEV BY MASTERING THE FUNDAMENTALS (SPONSOR) [] \\r\\n\\r\\n Brilliant's first-principles approach to CS, data analysis,\\r\\nprogramming, AI and more to help supercharge your knowledge in \\r\\nminutes a day. Unlock thousands of interactive lessons with a -day\\r\\nfree trial. [] \\r\\n\\r\\n IN BID TO LOOSEN NVIDIA'S GRIP ON AI, AMD TO BUY FINNISH STARTUP FOR\\r\\n$M ( MINUTE READ) [] \\r\\n\\r\\n AMD is buying Finnish AI startup Silo AI for $ million in an\\r\\nall-cash acquisition expected to close in the second half of this\\r\\nyear. \\r\\n\\r\\n THE PERPETUAL QUEST FOR A TRUTH MACHINE ( MINUTE READ) [] \\r\\n\\r\\n While humans have an amazing ability to make meaning from the world,\\r\\ncreate stories to construct understanding, and search for patterns\\r\\nthat may reveal larger truths, these mental efforts are often flawed,\\r\\narbitrary, and incomplete. \\r\\n\\r\\n APPLE IS RAMPING UP FOR A BIG IPHONE  SALES BOOST THANKS TO APPLE\\r\\nINTELLIGENCE ( MINUTE READ) [] \\r\\n\\r\\n Apple expects that iPhone  shipments will be about % higher than\\r\\nits  figures. \\r\\n\\r\\n SPOTIFY IS NO LONGER JUST A STREAMING APP, IT'S A SOCIAL NETWORK (\\r\\nMINUTE READ) [] \\r\\n\\r\\n Spotify's recent launch of comments on podcasts is another step\\r\\ntowards making the app a social network centered around audio. \\r\\n\\r\\n OPENAI PARTNERS WITH LOS ALAMOS TO STUDY AI IN THE LAB ( MINUTE\\r\\nREAD) [] \\r\\n\\r\\n The first experiment involves using AI to help someone unskilled in\\r\\nmolecular biology perform basic biomedical tasks. \\r\\n\\r\\n HOW WIKIPEDIA ADMIN DAVID GERARD LAUNDERS HIS GRUDGES INTO THE PUBLIC\\r\\nRECORD ( MINUTE READ) [] \\r\\n\\r\\n Wikipedia administrator David Gerard goes out of his way to provide\\r\\ninterviews to journalists who write on topics he's passionate about -\\r\\nthen he adds just the right quotes from those sources to Wikipedia\\r\\narticles about those topics and protects those additions from any who\\r\\nmight question them. \\r\\n\\r\\nLove TLDR? Tell your friends and get rewards!\\r\\n\\r\\n Share your referral link below with friends to get free TLDR swag! \\r\\n\\r\\n  [] \\r\\n\\r\\n\\t\\t Track your referrals here. [] \\r\\n\\r\\nWant to advertise in TLDR? \\ud83d\\udcf0\\r\\n\\r\\n If your company is interested in reaching an audience of tech\\r\\nexecutives, decision-makers and engineers, you may want to ADVERTISE\\r\\nWITH US []. \\r\\n\\r\\n If you have any comments or feedback, just respond to this email! \\r\\n\\r\\nThanks for reading, \\r\\nDan Ni & Stephen Flanders \\r\\n\\r\\nIf you don't want to receive future editions of TLDR, please\\r\\nunsubscribe from TLDR [] or manage all of your TLDR newsletter\\r\\nsubscriptions []. \\r\\n\\r\\n \\r\\n\\r\\nLinks:\\r\\n------\\r\\n[] \\r\\n[] \\r\\n[] \\r\\n[] \\r\\n[] \\r\\n[] \\r\\n[] \\r\\n[] \\r\\n[] \\r\\n[] \\r\\n[] \\r\\n[] \\r\\n[] \\r\\n[] \\r\\n[] \\r\\n[] \\r\\n[] \\r\\n[] \\r\\n[] \\r\\n[] \\r\\n[] \\r\\n[] \\r\\n[] \\r\\n[] \\r\\n[] \"\n        ],\n        \"semantic_type\": \"\",\n        \"description\": \"\"\n      }\n    }\n  ]\n}"
            }
          },
          "metadata": {},
          "execution_count": 5
        }
      ],
      "source": [
        "# Function to remove URLs from text\n",
        "def remove_urls_numbers(text):\n",
        "    url_pattern = re.compile(r'https?://\\S+|www\\.\\S+|\\d+')\n",
        "    return url_pattern.sub(r'', text)\n",
        "\n",
        "def extract_domain_names(text):\n",
        "    sender = re.compile(r'(?<=@)[a-zA-Z0-9.-]+\\.[a-zA-Z]{2,}')\n",
        "    matches = sender.findall(text)\n",
        "    return matches[0] if matches else None  # Return None if no match found\n",
        "\n",
        "# Clean the 'Body' column\n",
        "df['Body'] = df['Body'].apply(remove_urls_numbers)\n",
        "df['From'] = df['From'].apply(extract_domain_names)\n",
        "df.head()"
      ]
    },
    {
      "cell_type": "code",
      "execution_count": 6,
      "metadata": {
        "id": "5nmIhsJBucTW",
        "colab": {
          "base_uri": "https://localhost:8080/"
        },
        "outputId": "edb50071-c937-430e-8611-98d6a0a790db"
      },
      "outputs": [
        {
          "output_type": "execute_result",
          "data": {
            "text/plain": [
              "Index(['From', 'Subject', 'Read', 'Body', 'from_frequency', 'from_read_rate',\n",
              "       'email_length'],\n",
              "      dtype='object')"
            ]
          },
          "metadata": {},
          "execution_count": 6
        }
      ],
      "source": [
        "# Feature engineering\n",
        "sender_stats = df.groupby('From').agg({\n",
        "    'From': 'count',\n",
        "    'Read': 'mean'\n",
        "}).rename(columns={'From': 'from_frequency', 'Read': 'from_read_rate'}).reset_index()\n",
        "\n",
        "df = df.merge(sender_stats, on='From', how='left')\n",
        "\n",
        "df['email_length'] = df['Body'].str.len()\n",
        "df.columns\n",
        "\n",
        "# df.head()\n"
      ]
    },
    {
      "cell_type": "code",
      "execution_count": 7,
      "metadata": {
        "id": "bsDsLxH0ucTX"
      },
      "outputs": [],
      "source": [
        "# Process email body and subject\n",
        "vectorizer = TfidfVectorizer(max_features=150, stop_words='english', ngram_range=(3, 5))\n",
        "tfidf_body = vectorizer.fit_transform(df['Body'])\n",
        "tfidf_sub = vectorizer.fit_transform(df['Subject'])\n",
        "\n"
      ]
    },
    {
      "cell_type": "code",
      "execution_count": 8,
      "metadata": {
        "id": "YZwumStfucTa"
      },
      "outputs": [],
      "source": [
        "# tfidf_features.toarray().shape"
      ]
    },
    {
      "cell_type": "code",
      "execution_count": 9,
      "metadata": {
        "id": "PqQgFrl4ucTh",
        "colab": {
          "base_uri": "https://localhost:8080/"
        },
        "outputId": "90b69551-ff78-47a2-850e-611e4d82cb86"
      },
      "outputs": [
        {
          "output_type": "execute_result",
          "data": {
            "text/plain": [
              "(4084, 303)"
            ]
          },
          "metadata": {},
          "execution_count": 9
        }
      ],
      "source": [
        "# Combine features\n",
        "features = pd.concat([\n",
        "    df[['from_frequency', 'from_read_rate', 'email_length']],\n",
        "    pd.DataFrame(tfidf_body.toarray(), columns=vectorizer.get_feature_names_out()),\n",
        "    pd.DataFrame(tfidf_sub.toarray(), columns=vectorizer.get_feature_names_out())\n",
        "], axis=1)\n",
        "\n",
        "features.shape\n"
      ]
    },
    {
      "cell_type": "code",
      "execution_count": 10,
      "metadata": {
        "id": "DPy36XwHucTj"
      },
      "outputs": [],
      "source": [
        "# Split data\n",
        "X_train, X_test, y_train, y_test = train_test_split(features, df['Read'], test_size=0.2, random_state=42)\n"
      ]
    },
    {
      "cell_type": "code",
      "source": [
        "# Apply SMOTE\n",
        "smote = SMOTE(random_state=42)\n",
        "X_train, y_train = smote.fit_resample(X_train, y_train)"
      ],
      "metadata": {
        "id": "Nt0QZAwT8Vy6"
      },
      "execution_count": 11,
      "outputs": []
    },
    {
      "cell_type": "code",
      "execution_count": 12,
      "metadata": {
        "id": "39PuNH55ucTl",
        "colab": {
          "base_uri": "https://localhost:8080/",
          "height": 74
        },
        "outputId": "68365cb3-1b0e-4e73-a0cf-7e9e5309d55c"
      },
      "outputs": [
        {
          "output_type": "execute_result",
          "data": {
            "text/plain": [
              "RandomForestClassifier(random_state=42)"
            ],
            "text/html": [
              "<style>#sk-container-id-1 {color: black;}#sk-container-id-1 pre{padding: 0;}#sk-container-id-1 div.sk-toggleable {background-color: white;}#sk-container-id-1 label.sk-toggleable__label {cursor: pointer;display: block;width: 100%;margin-bottom: 0;padding: 0.3em;box-sizing: border-box;text-align: center;}#sk-container-id-1 label.sk-toggleable__label-arrow:before {content: \"▸\";float: left;margin-right: 0.25em;color: #696969;}#sk-container-id-1 label.sk-toggleable__label-arrow:hover:before {color: black;}#sk-container-id-1 div.sk-estimator:hover label.sk-toggleable__label-arrow:before {color: black;}#sk-container-id-1 div.sk-toggleable__content {max-height: 0;max-width: 0;overflow: hidden;text-align: left;background-color: #f0f8ff;}#sk-container-id-1 div.sk-toggleable__content pre {margin: 0.2em;color: black;border-radius: 0.25em;background-color: #f0f8ff;}#sk-container-id-1 input.sk-toggleable__control:checked~div.sk-toggleable__content {max-height: 200px;max-width: 100%;overflow: auto;}#sk-container-id-1 input.sk-toggleable__control:checked~label.sk-toggleable__label-arrow:before {content: \"▾\";}#sk-container-id-1 div.sk-estimator input.sk-toggleable__control:checked~label.sk-toggleable__label {background-color: #d4ebff;}#sk-container-id-1 div.sk-label input.sk-toggleable__control:checked~label.sk-toggleable__label {background-color: #d4ebff;}#sk-container-id-1 input.sk-hidden--visually {border: 0;clip: rect(1px 1px 1px 1px);clip: rect(1px, 1px, 1px, 1px);height: 1px;margin: -1px;overflow: hidden;padding: 0;position: absolute;width: 1px;}#sk-container-id-1 div.sk-estimator {font-family: monospace;background-color: #f0f8ff;border: 1px dotted black;border-radius: 0.25em;box-sizing: border-box;margin-bottom: 0.5em;}#sk-container-id-1 div.sk-estimator:hover {background-color: #d4ebff;}#sk-container-id-1 div.sk-parallel-item::after {content: \"\";width: 100%;border-bottom: 1px solid gray;flex-grow: 1;}#sk-container-id-1 div.sk-label:hover label.sk-toggleable__label {background-color: #d4ebff;}#sk-container-id-1 div.sk-serial::before {content: \"\";position: absolute;border-left: 1px solid gray;box-sizing: border-box;top: 0;bottom: 0;left: 50%;z-index: 0;}#sk-container-id-1 div.sk-serial {display: flex;flex-direction: column;align-items: center;background-color: white;padding-right: 0.2em;padding-left: 0.2em;position: relative;}#sk-container-id-1 div.sk-item {position: relative;z-index: 1;}#sk-container-id-1 div.sk-parallel {display: flex;align-items: stretch;justify-content: center;background-color: white;position: relative;}#sk-container-id-1 div.sk-item::before, #sk-container-id-1 div.sk-parallel-item::before {content: \"\";position: absolute;border-left: 1px solid gray;box-sizing: border-box;top: 0;bottom: 0;left: 50%;z-index: -1;}#sk-container-id-1 div.sk-parallel-item {display: flex;flex-direction: column;z-index: 1;position: relative;background-color: white;}#sk-container-id-1 div.sk-parallel-item:first-child::after {align-self: flex-end;width: 50%;}#sk-container-id-1 div.sk-parallel-item:last-child::after {align-self: flex-start;width: 50%;}#sk-container-id-1 div.sk-parallel-item:only-child::after {width: 0;}#sk-container-id-1 div.sk-dashed-wrapped {border: 1px dashed gray;margin: 0 0.4em 0.5em 0.4em;box-sizing: border-box;padding-bottom: 0.4em;background-color: white;}#sk-container-id-1 div.sk-label label {font-family: monospace;font-weight: bold;display: inline-block;line-height: 1.2em;}#sk-container-id-1 div.sk-label-container {text-align: center;}#sk-container-id-1 div.sk-container {/* jupyter's `normalize.less` sets `[hidden] { display: none; }` but bootstrap.min.css set `[hidden] { display: none !important; }` so we also need the `!important` here to be able to override the default hidden behavior on the sphinx rendered scikit-learn.org. See: https://github.com/scikit-learn/scikit-learn/issues/21755 */display: inline-block !important;position: relative;}#sk-container-id-1 div.sk-text-repr-fallback {display: none;}</style><div id=\"sk-container-id-1\" class=\"sk-top-container\"><div class=\"sk-text-repr-fallback\"><pre>RandomForestClassifier(random_state=42)</pre><b>In a Jupyter environment, please rerun this cell to show the HTML representation or trust the notebook. <br />On GitHub, the HTML representation is unable to render, please try loading this page with nbviewer.org.</b></div><div class=\"sk-container\" hidden><div class=\"sk-item\"><div class=\"sk-estimator sk-toggleable\"><input class=\"sk-toggleable__control sk-hidden--visually\" id=\"sk-estimator-id-1\" type=\"checkbox\" checked><label for=\"sk-estimator-id-1\" class=\"sk-toggleable__label sk-toggleable__label-arrow\">RandomForestClassifier</label><div class=\"sk-toggleable__content\"><pre>RandomForestClassifier(random_state=42)</pre></div></div></div></div></div>"
            ]
          },
          "metadata": {},
          "execution_count": 12
        }
      ],
      "source": [
        "# Train model\n",
        "model = RandomForestClassifier(n_estimators=100, random_state=42)\n",
        "model.fit(X_train, y_train)"
      ]
    },
    {
      "cell_type": "code",
      "execution_count": 13,
      "metadata": {
        "id": "48rl46JbucTl",
        "colab": {
          "base_uri": "https://localhost:8080/"
        },
        "outputId": "f96f6706-9222-4d3e-9b84-a6ded99c0388"
      },
      "outputs": [
        {
          "output_type": "stream",
          "name": "stdout",
          "text": [
            "Accuracy: 0.6413708690330477\n",
            "              precision    recall  f1-score   support\n",
            "\n",
            "       False       0.73      0.74      0.74       556\n",
            "        True       0.44      0.43      0.43       261\n",
            "\n",
            "    accuracy                           0.64       817\n",
            "   macro avg       0.59      0.59      0.59       817\n",
            "weighted avg       0.64      0.64      0.64       817\n",
            "\n"
          ]
        }
      ],
      "source": [
        "# Evaluate model\n",
        "y_pred = model.predict(X_test)\n",
        "print(\"Accuracy:\", accuracy_score(y_test, y_pred))\n",
        "print(classification_report(y_test, y_pred))\n"
      ]
    },
    {
      "cell_type": "code",
      "execution_count": null,
      "metadata": {
        "id": "skiObjC6ucTm"
      },
      "outputs": [],
      "source": [
        "# Feature importance\n",
        "feature_importance = pd.DataFrame({\n",
        "    'feature': features.columns,\n",
        "    'importance': model.feature_importances_\n",
        "}).sort_values('importance', ascending=False)\n",
        "print(feature_importance.head(10))\n"
      ]
    },
    {
      "cell_type": "code",
      "execution_count": null,
      "metadata": {
        "id": "H96czr0ZucTn"
      },
      "outputs": [],
      "source": [
        "# Feature importance\n",
        "feature_importance = model.feature_importances_\n",
        "feature_names = vectorizer.get_feature_names_out()\n",
        "for importance, name in sorted(zip(feature_importance, feature_names), reverse=True)[:10]:\n",
        "    print(name, \":\", importance)\n"
      ]
    },
    {
      "cell_type": "code",
      "execution_count": 16,
      "metadata": {
        "id": "0jwCehOOucTn",
        "colab": {
          "base_uri": "https://localhost:8080/"
        },
        "outputId": "013d029f-0099-44ae-8aca-0709bd3403d0"
      },
      "outputs": [
        {
          "output_type": "execute_result",
          "data": {
            "text/plain": [
              "['email_vectorizer.joblib']"
            ]
          },
          "metadata": {},
          "execution_count": 16
        }
      ],
      "source": [
        "# Save the model and vectorizer\n",
        "joblib.dump(model, 'email_read_model.joblib')\n",
        "joblib.dump(vectorizer, 'email_vectorizer.joblib')\n"
      ]
    },
    {
      "cell_type": "code",
      "source": [
        "# Function to predict on a new email\n",
        "def predict_email_read(from_address, subject, body):\n",
        "    # Load the saved model and vectorizer\n",
        "    # loaded_model = joblib.load('email_read_model.joblib')\n",
        "    # loaded_vectorizer = joblib.load('email_vectorizer.joblib')\n",
        "\n",
        "    # Apply body changes\n",
        "    clean_body = remove_urls_numbers(body)\n",
        "    domain_name = extract_domain_names(from_address)\n",
        "\n",
        "    # Create features\n",
        "    from_freq = df[df['From'] == domain_name]['from_frequency'].values[0] if domain_name in df['From'].values else 0\n",
        "    from_read_rate = df[df['From'] == domain_name]['from_read_rate'].values[0] if domain_name in df['From'].values else 0\n",
        "    email_length = len(clean_body)\n",
        "\n",
        "    # Process body\n",
        "    tfidf_body = vectorizer.transform([clean_body])\n",
        "    tfidf_subject = vectorizer.transform([subject])\n",
        "\n",
        "    # Combine features\n",
        "    email_features = pd.DataFrame({\n",
        "        'from_frequency': [from_freq],\n",
        "        'from_read_rate': [from_read_rate],\n",
        "        'email_length': [email_length]\n",
        "    })\n",
        "    email_features = pd.concat([\n",
        "        email_features,\n",
        "        pd.DataFrame(tfidf_body.toarray(), columns=vectorizer.get_feature_names_out()),\n",
        "        pd.DataFrame(tfidf_subject.toarray(), columns=vectorizer.get_feature_names_out())\n",
        "    ], axis=1)\n",
        "\n",
        "    email_features.head()\n",
        "\n",
        "    # Predict\n",
        "    prediction = model.predict(email_features)\n",
        "    probability = model.predict_proba(email_features)[0][1]  # Probability of being read\n",
        "\n",
        "    return prediction[0], probability\n"
      ],
      "metadata": {
        "id": "Iclo438YyAlN"
      },
      "execution_count": 17,
      "outputs": []
    },
    {
      "cell_type": "code",
      "source": [
        "# Example usage\n",
        "new_email_from = \"\"\n",
        "new_email_subject = \" \"\n",
        "new_email_body = \"\"\"\n",
        "\n",
        "\n",
        "\"\"\"\n",
        "\n",
        "prediction, probability = predict_email_read(new_email_from, new_email_subject, new_email_body)\n",
        "print(f\"Prediction: {'Will be read' if prediction == 1 else 'Will not be read'}\")\n",
        "print(f\"Probability of being read: {probability:.2f}\")"
      ],
      "metadata": {
        "colab": {
          "base_uri": "https://localhost:8080/"
        },
        "id": "R-msia6ZySn_",
        "outputId": "a2aba9a3-9bab-4115-fcb7-7929d4f81851"
      },
      "execution_count": 21,
      "outputs": [
        {
          "output_type": "stream",
          "name": "stdout",
          "text": [
            "Prediction: Will not be read\n",
            "Probability of being read: 0.20\n"
          ]
        }
      ]
    },
    {
      "cell_type": "code",
      "source": [],
      "metadata": {
        "id": "A2CMvB6LzHZ1",
        "colab": {
          "base_uri": "https://localhost:8080/",
          "height": 36
        },
        "outputId": "67a455c6-f750-4ac0-ee82-0036d69838e9"
      },
      "execution_count": 19,
      "outputs": [
        {
          "output_type": "execute_result",
          "data": {
            "text/plain": [
              "'\\nQuick Fixes:\\n- changed ngram to 2\\n\\n'"
            ],
            "application/vnd.google.colaboratory.intrinsic+json": {
              "type": "string"
            }
          },
          "metadata": {},
          "execution_count": 19
        }
      ]
    },
    {
      "cell_type": "code",
      "source": [],
      "metadata": {
        "id": "FnRq1A8rKlTZ"
      },
      "execution_count": 19,
      "outputs": []
    }
  ],
  "metadata": {
    "kernelspec": {
      "display_name": "Python 3",
      "language": "python",
      "name": "python3"
    },
    "language_info": {
      "codemirror_mode": {
        "name": "ipython",
        "version": 3
      },
      "file_extension": ".py",
      "mimetype": "text/x-python",
      "name": "python",
      "nbconvert_exporter": "python",
      "pygments_lexer": "ipython3",
      "version": "3.12.0"
    },
    "colab": {
      "provenance": [],
      "include_colab_link": true
    }
  },
  "nbformat": 4,
  "nbformat_minor": 0
}